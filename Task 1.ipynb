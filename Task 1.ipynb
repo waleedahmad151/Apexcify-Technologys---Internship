{
 "cells": [
  {
   "cell_type": "code",
   "execution_count": 1,
   "id": "1a4b4063-0e8c-4adf-8dd5-42043337b32c",
   "metadata": {},
   "outputs": [],
   "source": [
    "import pandas as pd\n",
    "import numpy as np"
   ]
  },
  {
   "cell_type": "code",
   "execution_count": 2,
   "id": "a0ae58b1-0570-4c84-8433-7a0375cf2a21",
   "metadata": {},
   "outputs": [
    {
     "data": {
      "text/html": [
       "<div>\n",
       "<style scoped>\n",
       "    .dataframe tbody tr th:only-of-type {\n",
       "        vertical-align: middle;\n",
       "    }\n",
       "\n",
       "    .dataframe tbody tr th {\n",
       "        vertical-align: top;\n",
       "    }\n",
       "\n",
       "    .dataframe thead th {\n",
       "        text-align: right;\n",
       "    }\n",
       "</style>\n",
       "<table border=\"1\" class=\"dataframe\">\n",
       "  <thead>\n",
       "    <tr style=\"text-align: right;\">\n",
       "      <th></th>\n",
       "      <th>Student</th>\n",
       "      <th>English</th>\n",
       "      <th>Urdu</th>\n",
       "      <th>Maths</th>\n",
       "    </tr>\n",
       "  </thead>\n",
       "  <tbody>\n",
       "    <tr>\n",
       "      <th>0</th>\n",
       "      <td>Ali</td>\n",
       "      <td>7.0</td>\n",
       "      <td>6.000000</td>\n",
       "      <td>6.500000</td>\n",
       "    </tr>\n",
       "    <tr>\n",
       "      <th>1</th>\n",
       "      <td>Arif</td>\n",
       "      <td>8.0</td>\n",
       "      <td>6.714286</td>\n",
       "      <td>6.285714</td>\n",
       "    </tr>\n",
       "    <tr>\n",
       "      <th>2</th>\n",
       "      <td>Usman</td>\n",
       "      <td>9.0</td>\n",
       "      <td>6.500000</td>\n",
       "      <td>9.000000</td>\n",
       "    </tr>\n",
       "    <tr>\n",
       "      <th>3</th>\n",
       "      <td>Kashif</td>\n",
       "      <td>8.0</td>\n",
       "      <td>6.285714</td>\n",
       "      <td>7.000000</td>\n",
       "    </tr>\n",
       "    <tr>\n",
       "      <th>4</th>\n",
       "      <td>Subhan</td>\n",
       "      <td>8.0</td>\n",
       "      <td>9.000000</td>\n",
       "      <td>7.000000</td>\n",
       "    </tr>\n",
       "  </tbody>\n",
       "</table>\n",
       "</div>"
      ],
      "text/plain": [
       "  Student  English      Urdu     Maths\n",
       "0     Ali      7.0  6.000000  6.500000\n",
       "1    Arif      8.0  6.714286  6.285714\n",
       "2   Usman      9.0  6.500000  9.000000\n",
       "3  Kashif      8.0  6.285714  7.000000\n",
       "4  Subhan      8.0  9.000000  7.000000"
      ]
     },
     "execution_count": 2,
     "metadata": {},
     "output_type": "execute_result"
    }
   ],
   "source": [
    "df=pd.read_excel(r'D:\\data\\internship\\5\\Task 1\\Marks.xlsx')\n",
    "df.head()"
   ]
  },
  {
   "cell_type": "code",
   "execution_count": 3,
   "id": "51bb9bcd-8ec2-4781-b1ce-6ba70027570c",
   "metadata": {},
   "outputs": [
    {
     "name": "stdout",
     "output_type": "stream",
     "text": [
      "English Average: 7.23\n",
      "Urdu Average: 7.11\n",
      "Maths Average: 7.16\n"
     ]
    }
   ],
   "source": [
    "print('English Average:',df['English'].mean().round(2))\n",
    "print('Urdu Average:',df['Urdu'].mean().round(2))\n",
    "print('Maths Average:',df['Maths'].mean().round(2))"
   ]
  },
  {
   "cell_type": "code",
   "execution_count": 4,
   "id": "da46a7df-80ab-46a6-a09e-14bc8d7f9af5",
   "metadata": {},
   "outputs": [
    {
     "name": "stdout",
     "output_type": "stream",
     "text": [
      " Ali Average: 6.50\n",
      " Arif Average: 7.00\n",
      " Usman Average: 8.17\n",
      " Kashif Average: 7.10\n",
      " Subhan Average: 8.00\n",
      " Naeem Average: 7.67\n",
      " Haseeb Average: 6.33\n",
      " Noman Average: 7.90\n",
      " Saeed Average: 6.50\n",
      " Shariq Average: 6.76\n",
      " Kumail Average: 8.00\n",
      " Shoaib Average: 7.00\n",
      " Tehreem Average: 7.24\n",
      " Noureen Average: 8.00\n",
      " Tehmeena Average: 7.67\n",
      " Alishba Average: 6.67\n",
      " Sana Average: 7.57\n",
      " Aeman Average: 6.67\n",
      " Asma Average: 5.67\n",
      " Naima Average: 6.90\n"
     ]
    }
   ],
   "source": [
    "averages = df[['English', 'Urdu', 'Maths']].mean(axis=1)\n",
    "for student, avg in zip(df['Student'], averages):\n",
    "    print(f\" {student} Average: {avg:.2f}\")"
   ]
  },
  {
   "cell_type": "code",
   "execution_count": 9,
   "id": "c6dbcff2-5bd7-4c68-b37c-7557a4c4f8bb",
   "metadata": {},
   "outputs": [
    {
     "name": "stdout",
     "output_type": "stream",
     "text": [
      "The highest average is 8.17 by Usman\n"
     ]
    }
   ],
   "source": [
    "max_index = averages.idxmax()\n",
    "top_name = df.loc[max_index, 'Student']\n",
    "top_average = averages[max_index]\n",
    "\n",
    "print(f\"The highest average is {top_average:.2f} by {top_name}\")"
   ]
  },
  {
   "cell_type": "code",
   "execution_count": null,
   "id": "4edd506d-2202-436b-bbe1-137317ba5efd",
   "metadata": {},
   "outputs": [],
   "source": []
  }
 ],
 "metadata": {
  "kernelspec": {
   "display_name": "Python 3 (ipykernel)",
   "language": "python",
   "name": "python3"
  },
  "language_info": {
   "codemirror_mode": {
    "name": "ipython",
    "version": 3
   },
   "file_extension": ".py",
   "mimetype": "text/x-python",
   "name": "python",
   "nbconvert_exporter": "python",
   "pygments_lexer": "ipython3",
   "version": "3.13.5"
  }
 },
 "nbformat": 4,
 "nbformat_minor": 5
}
